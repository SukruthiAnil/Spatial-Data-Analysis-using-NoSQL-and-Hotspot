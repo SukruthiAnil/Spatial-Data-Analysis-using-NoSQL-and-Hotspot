{
  "cells": [
    {
      "cell_type": "markdown",
      "metadata": {
        "id": "view-in-github",
        "colab_type": "text"
      },
      "source": [
        "<a href=\"https://colab.research.google.com/github/SukruthiAnil/Spatial-Data-Analysis-using-NoSQL-and-Hotspot/blob/main/NoSQL_BusinessFinder.ipynb\" target=\"_parent\"><img src=\"https://colab.research.google.com/assets/colab-badge.svg\" alt=\"Open In Colab\"/></a>"
      ]
    },
    {
      "cell_type": "code",
      "execution_count": null,
      "metadata": {
        "collapsed": true,
        "id": "SPSYQbxF5T0P",
        "outputId": "b33abf13-b95c-4bf4-ccff-05d7c996b699"
      },
      "outputs": [
        {
          "name": "stdout",
          "output_type": "stream",
          "text": [
            "Collecting unqlite\n",
            "  Downloading unqlite-0.9.6.tar.gz (580 kB)\n",
            "\u001b[2K     \u001b[90m━━━━━━━━━━━━━━━━━━━━━━━━━━━━━━━━━━━━━━━\u001b[0m \u001b[32m580.0/580.0 kB\u001b[0m \u001b[31m5.8 MB/s\u001b[0m eta \u001b[36m0:00:00\u001b[0ma \u001b[36m0:00:01\u001b[0m\n",
            "\u001b[?25h  Preparing metadata (setup.py) ... \u001b[?25ldone\n",
            "\u001b[?25hCollecting Cython\n",
            "  Using cached Cython-3.0.10-cp310-cp310-macosx_10_9_x86_64.whl (3.1 MB)\n",
            "Building wheels for collected packages: unqlite\n",
            "  Building wheel for unqlite (setup.py) ... \u001b[?25ldone\n",
            "\u001b[?25h  Created wheel for unqlite: filename=unqlite-0.9.6-cp310-cp310-macosx_10_9_x86_64.whl size=314104 sha256=0427af31a57a707eec76905b45ab117d03927486a07e491c92c5e6fdecd712fe\n",
            "  Stored in directory: /Users/sukruthianilkumar/Library/Caches/pip/wheels/a7/91/64/b1358695c06f7a2b9083fbe7a4743680f2344597656a518e33\n",
            "Successfully built unqlite\n",
            "\u001b[33mWARNING: Error parsing requirements for numpy: [Errno 2] No such file or directory: '/Users/sukruthianilkumar/anaconda3/lib/python3.10/site-packages/numpy-1.25.2.dist-info/METADATA'\u001b[0m\u001b[33m\n",
            "\u001b[0mInstalling collected packages: Cython, unqlite\n",
            "Successfully installed Cython-3.0.10 unqlite-0.9.6\n",
            "Note: you may need to restart the kernel to use updated packages.\n"
          ]
        }
      ],
      "source": [
        "%pip install unqlite\n"
      ]
    },
    {
      "cell_type": "code",
      "execution_count": null,
      "metadata": {
        "id": "2YSyPB3H5T0S"
      },
      "outputs": [],
      "source": [
        "from unqlite import UnQLite\n",
        "import math\n",
        "\n",
        "db = UnQLite('sample.db')\n",
        "data = db.collection('data')"
      ]
    },
    {
      "cell_type": "code",
      "execution_count": null,
      "metadata": {
        "collapsed": true,
        "id": "FWspZZy15T0S"
      },
      "outputs": [],
      "source": [
        "# Graded Cell, PartID: o1flK\n",
        "#DPS Project 1 by Sukruthi Anilkumar\n",
        "\n",
        "def FindBusinessBasedOnCity(cityToSearch,saveLocation1,collection):\n",
        "    # Filtering the collection for businesses in the specified city\n",
        "    results = collection.filter(lambda record: record['city'].lower() == cityToSearch.lower())\n",
        "    # Formatting the results into the specified string format\n",
        "    formatted_results = [\n",
        "        f\"{item['name']}${item['full_address']}${item['city']}${item['state']}\"\n",
        "        for item in results\n",
        "    ]\n",
        "    # Writing the formatted results to the save location\n",
        "    with open(saveLocation1, 'w') as file:\n",
        "        for line in formatted_results:\n",
        "            file.write(line + '\\n')\n",
        "    #pass\n",
        "\n",
        "\n",
        "def to_radians(degrees):\n",
        "    #Converting degrees to radians.\n",
        "    return degrees * math.pi / 180\n",
        "\n",
        "def calculate_distance(lat1, lon1, lat2, lon2):\n",
        "    #Calculating the great-circle distance between two points on the Earth's surface\n",
        "    R = 3959  # Radius of the Earth in miles\n",
        "    phi1 = to_radians(lat1)\n",
        "    phi2 = to_radians(lat2)\n",
        "    delta_phi = to_radians(lat2 - lat1)\n",
        "    delta_lambda = to_radians(lon2 - lon1)\n",
        "\n",
        "    a = math.sin(delta_phi / 2) ** 2 + math.cos(phi1) * math.cos(phi2) * math.sin(delta_lambda / 2) ** 2\n",
        "    c = 2 * math.atan2(math.sqrt(a), math.sqrt(1 - a))\n",
        "\n",
        "    distance = R * c\n",
        "    return distance\n",
        "\n",
        "\n",
        "def FindBusinessBasedOnLocation(categoriesToSearch, myLocation, maxDistance, saveLocation2, collection):\n",
        "    results = []\n",
        "    for record in collection:\n",
        "        # Checking if any of the categories match and the business is within the maxDistance\n",
        "        if any(category in record['categories'] for category in categoriesToSearch):\n",
        "            distance = calculate_distance(myLocation[0], myLocation[1], record['latitude'], record['longitude'])\n",
        "            if distance <= maxDistance:\n",
        "                results.append(record['name'])\n",
        "\n",
        "    # Writing the results to the file\n",
        "    with open(saveLocation2, 'w') as file:\n",
        "        for name in results:\n",
        "            file.write(name + '\\n')\n",
        "    #pass"
      ]
    },
    {
      "cell_type": "code",
      "execution_count": null,
      "metadata": {
        "id": "KY8aAQEF5T0T",
        "outputId": "9ff12133-99d3-4e22-ca83-98dec5acef8b"
      },
      "outputs": [
        {
          "name": "stdout",
          "output_type": "stream",
          "text": [
            "Correct! You FindBusinessByCity function passes these test cases. This does not cover all possible test edge cases, however, so make sure that your function covers them before submitting!\n"
          ]
        }
      ],
      "source": [
        "true_results = [\"VinciTorio's Restaurant$1835 E Elliot Rd, Ste C109, Tempe, AZ 85284$Tempe$AZ\", \"P.croissants$7520 S Rural Rd, Tempe, AZ 85283$Tempe$AZ\", \"Salt Creek Home$1725 W Ruby Dr, Tempe, AZ 85284$Tempe$AZ\"]\n",
        "\n",
        "try:\n",
        "    FindBusinessBasedOnCity('Tempe', 'output_city.txt', data)\n",
        "except NameError as e:\n",
        "    print ('The FindBusinessBasedOnCity function is not defined! You must run the cell containing the function before running this evaluation cell.')\n",
        "except TypeError as e:\n",
        "    print (\"The FindBusinessBasedOnCity function is supposed to accept three arguments. Yours does not!\")\n",
        "\n",
        "try:\n",
        "    opf = open('output_city.txt', 'r')\n",
        "except FileNotFoundError as e:\n",
        "    print (\"The FindBusinessBasedOnCity function does not write data to the correct location.\")\n",
        "\n",
        "lines = opf.readlines()\n",
        "if len(lines) != 3:\n",
        "    print (\"The FindBusinessBasedOnCity function does not find the correct number of results, should be 3.\")\n",
        "\n",
        "lines = [line.strip() for line in lines]\n",
        "if sorted(lines) == sorted(true_results):\n",
        "    print (\"Correct! You FindBusinessByCity function passes these test cases. This does not cover all possible test edge cases, however, so make sure that your function covers them before submitting!\")"
      ]
    },
    {
      "cell_type": "code",
      "execution_count": null,
      "metadata": {
        "id": "FLjLndlS5T0T",
        "outputId": "bab61213-9100-49f5-970e-0e2a46b34cde"
      },
      "outputs": [
        {
          "name": "stdout",
          "output_type": "stream",
          "text": [
            "Correct! Your FindBusinessBasedOnLocation function passes these test cases. This does not cover all possible edge cases, so make sure your function does before submitting.\n"
          ]
        }
      ],
      "source": [
        "true_results = [\"VinciTorio's Restaurant\"]\n",
        "\n",
        "try:\n",
        "    FindBusinessBasedOnLocation(['Buffets'], [33.3482589, -111.9088346], 10, 'output_loc.txt', data)\n",
        "except NameError as e:\n",
        "    print ('The FindBusinessBasedOnLocation function is not defined! You must run the cell containing the function before running this evaluation cell.')\n",
        "except TypeError as e:\n",
        "    print (\"The FindBusinessBasedOnLocation function is supposed to accept five arguments. Yours does not!\")\n",
        "\n",
        "try:\n",
        "    opf = open('output_loc.txt','r')\n",
        "except FileNotFoundError as e:\n",
        "    print (\"The FindBusinessBasedOnLocation function does not write data to the correct location.\")\n",
        "\n",
        "lines = opf.readlines()\n",
        "if len(lines) != 1:\n",
        "    print (\"The FindBusinessBasedOnLocation function does not find the correct number of results, should be only 1.\")\n",
        "\n",
        "if lines[0].strip() == true_results[0]:\n",
        "    print (\"Correct! Your FindBusinessBasedOnLocation function passes these test cases. This does not cover all possible edge cases, so make sure your function does before submitting.\")"
      ]
    },
    {
      "cell_type": "code",
      "execution_count": null,
      "metadata": {
        "id": "KvE140mW5T0U",
        "outputId": "338da21a-2e8a-49bc-f853-5619e181888f"
      },
      "outputs": [
        {
          "name": "stdout",
          "output_type": "stream",
          "text": [
            "Correct! You FindBusinessByCity function passes these test cases. This does not cover all possible test edge cases, however, so make sure that your function covers them before submitting!\n"
          ]
        }
      ],
      "source": [
        "true_results =['3 Palms$7707 E McDowell Rd, Scottsdale, AZ 85257$Scottsdale$AZ', \"Bob's Bike Shop$1608 N Miller Rd, Scottsdale, AZ 85257$Scottsdale$AZ\", 'Ronan & Tagart, PLC$8980 E Raintree Dr, Ste 120, Scottsdale, AZ 85260$Scottsdale$AZ', \"Sangria's$7700 E McCormick Pkwy, Scottsdale, AZ 85258$Scottsdale$AZ\", 'Turf Direct$8350 E Evans Rd, Scottsdale, AZ 85260$Scottsdale$AZ']\n",
        "try:\n",
        "    FindBusinessBasedOnCity('Scottsdale', 'output_city.txt', data)\n",
        "except NameError as e:\n",
        "    print ('The FindBusinessBasedOnCity function is not defined! You must run the cell containing the function before running this evaluation cell.')\n",
        "except TypeError as e:\n",
        "    print(e)\n",
        "    print (\"The FindBusinessBasedOnCity function is supposed to accept three arguments. Yours does not!\")\n",
        "try:\n",
        "    opf = open('output_city.txt', 'r')\n",
        "except FileNotFoundError as e:\n",
        "    print (\"The FindBusinessBasedOnCity function does not write data to the correct location.\")\n",
        "lines = opf.readlines()\n",
        "if len(lines) != 5:\n",
        "    print (\"The FindBusinessBasedOnCity function does not find the correct number of results, should be 3.\")\n",
        "lines = [line.strip() for line in lines]\n",
        "if sorted(lines) == sorted(true_results):\n",
        "    print (\"Correct! You FindBusinessByCity function passes these test cases. This does not cover all possible test edge cases, however, so make sure that your function covers them before submitting!\")\n"
      ]
    },
    {
      "cell_type": "code",
      "execution_count": null,
      "metadata": {
        "id": "tU1lDV9W5T0U",
        "outputId": "24140874-fef4-4f9f-d036-b784c9a98794"
      },
      "outputs": [
        {
          "name": "stdout",
          "output_type": "stream",
          "text": [
            "Correct! You FindBusinessByCity function passes these test cases. This does not cover all possible test edge cases, however, so make sure that your function covers them before submitting!\n"
          ]
        }
      ],
      "source": [
        "true_results =['Arizona Exterminating Co.$521 E Broadway Rd, Mesa, AZ 85204$Mesa$AZ', 'Bikram Yoga$1940 W 8th St, Ste 111, Mesa, AZ 85202$Mesa$AZ', \"Denny's Restaurant$1330 S Power Rd, Mesa, AZ 85206$Mesa$AZ\", 'Diamondback Gymnastics$7211 E Southern Avenue, Mesa, AZ 85209$Mesa$AZ', 'Southeast Valley Medical Group$1950 S Country Club Dr, Mesa, AZ 85210$Mesa$AZ', 'Spa Pima$2150 S Power Rd, Mesa, AZ 85209$Mesa$AZ', 'The Seafood Market$1910 S Gilbert Rd, Mesa, AZ 85204$Mesa$AZ']\n",
        "try:\n",
        "    FindBusinessBasedOnCity('Mesa', 'output_city.txt', data)\n",
        "except NameError as e:\n",
        "    print ('The FindBusinessBasedOnCity function is not defined! You must run the cell containing the function before running this evaluation cell.')\n",
        "except TypeError as e:\n",
        "    print(e)\n",
        "    print (\"The FindBusinessBasedOnCity function is supposed to accept three arguments. Yours does not!\")\n",
        "try:\n",
        "    opf = open('output_city.txt', 'r')\n",
        "except FileNotFoundError as e:\n",
        "    print (\"The FindBusinessBasedOnCity function does not write data to the correct location.\")\n",
        "lines = opf.readlines()\n",
        "if len(lines) != 7:\n",
        "    print (\"The FindBusinessBasedOnCity function does not find the correct number of results, should be 3.\")\n",
        "lines = [line.strip() for line in lines]\n",
        "if sorted(lines) == sorted(true_results):\n",
        "    print (\"Correct! You FindBusinessByCity function passes these test cases. This does not cover all possible test edge cases, however, so make sure that your function covers them before submitting!\")\n"
      ]
    },
    {
      "cell_type": "code",
      "execution_count": null,
      "metadata": {
        "id": "DXJWJFoj5T0U",
        "outputId": "02bcff02-06e1-4598-f77a-2fe0087af38c"
      },
      "outputs": [
        {
          "name": "stdout",
          "output_type": "stream",
          "text": [
            "Correct! Your FindBusinessBasedOnLocation function passes these test cases. This does not cover all possible edge cases, so make sure your function does before submitting.\n"
          ]
        }
      ],
      "source": [
        "true_results =['The Seafood Market']\n",
        "try:\n",
        "    FindBusinessBasedOnLocation(['Specialty Food'], [33.3482589, -111.9088346], 10, 'output_loc.txt', data)\n",
        "except NameError as e:\n",
        "    print ('The FindBusinessBasedOnLocation function is not defined! You must run the cell containing the function before running this evaluation cell.')\n",
        "except TypeError as e:\n",
        "    print (\"The FindBusinessBasedOnLocation function is supposed to accept five arguments. Yours does not!\")\n",
        "try:\n",
        "    opf = open('output_loc.txt','r')\n",
        "except FileNotFoundError as e:\n",
        "    print (\"The FindBusinessBasedOnLocation function does not write data to the correct location.\")\n",
        "lines = opf.readlines()\n",
        "if len(lines) != 1:\n",
        "    print (\"The FindBusinessBasedOnLocation function does not find the correct number of results, should be only 1.\")\n",
        "lines = [line.strip() for line in lines]\n",
        "if sorted(lines) == sorted(true_results):\n",
        "    print (\"Correct! Your FindBusinessBasedOnLocation function passes these test cases. This does not cover all possible edge cases, so make sure your function does before submitting.\")\n"
      ]
    },
    {
      "cell_type": "code",
      "execution_count": null,
      "metadata": {
        "id": "g5GWJ-hQ5T0U",
        "outputId": "efcec1e6-82aa-4c06-ba67-b562e26e479e"
      },
      "outputs": [
        {
          "name": "stdout",
          "output_type": "stream",
          "text": [
            "Correct! Your FindBusinessBasedOnLocation function passes these test cases. This does not cover all possible edge cases, so make sure your function does before submitting.\n"
          ]
        }
      ],
      "source": [
        "true_results = ['P.croissants']\n",
        "try:\n",
        "    FindBusinessBasedOnLocation(['Bakeries'], [33.3482589, -111.9088346], 10, 'output_loc.txt', data)\n",
        "except NameError as e:\n",
        "        print ('The FindBusinessBasedOnLocation function is not defined! You must run the cell containing the function before running this evaluation cell.')\n",
        "except TypeError as e:\n",
        "    print (\"The FindBusinessBasedOnLocation function is supposed to accept five arguments. Yours does not!\")\n",
        "try:\n",
        "    opf = open('output_loc.txt','r')\n",
        "except FileNotFoundError as e:\n",
        "    print (\"The FindBusinessBasedOnLocation function does not write data to the correct location.\")\n",
        "lines = opf.readlines()\n",
        "if len(lines) != 1:\n",
        "    print (\"The FindBusinessBasedOnLocation function does not find the correct number of results, should be only 1.\")\n",
        "lines = [line.strip() for line in lines]\n",
        "if sorted(lines) == sorted(true_results):\n",
        "    print (\"Correct! Your FindBusinessBasedOnLocation function passes these test cases. This does not cover all possible edge cases, so make sure your function does before submitting.\")"
      ]
    },
    {
      "cell_type": "code",
      "execution_count": null,
      "metadata": {
        "id": "N_gaC6HJ5T0U",
        "outputId": "31973370-5d84-414e-f874-d1df6596b891"
      },
      "outputs": [
        {
          "name": "stdout",
          "output_type": "stream",
          "text": [
            "Correct! Your FindBusinessBasedOnLocation function passes these test cases. This does not cover all possible edge cases, so make sure your function does before submitting.\n"
          ]
        }
      ],
      "source": [
        "true_results = ['The Seafood Market', 'P.croissants']\n",
        "try:\n",
        "    FindBusinessBasedOnLocation(['Food', 'Specialty Food'], [33.3482589, -111.9088346], 10, 'output_loc.txt', data)\n",
        "except NameError as e:\n",
        "    print ('The FindBusinessBasedOnLocation function is not defined! You must run the cell containing the function before running this evaluation cell.')\n",
        "except TypeError as e:\n",
        "    print (\"The FindBusinessBasedOnLocation function is supposed to accept five arguments. Yours does not!\")\n",
        "try:\n",
        "    opf = open('output_loc.txt','r')\n",
        "except FileNotFoundError as e:\n",
        "    print (\"The FindBusinessBasedOnLocation function does not write data to the correct location.\")\n",
        "lines = opf.readlines()\n",
        "if len(lines) != 2:\n",
        "    print (\"The FindBusinessBasedOnLocation function does not find the correct number of results, should be only 2.\")\n",
        "lines = [line.strip() for line in lines]\n",
        "if sorted(lines) == sorted(true_results):\n",
        "    print (\"Correct! Your FindBusinessBasedOnLocation function passes these test cases. This does not cover all possible edge cases, so make sure your function does before submitting.\")\n"
      ]
    }
  ],
  "metadata": {
    "kernelspec": {
      "display_name": "Python 3",
      "language": "python",
      "name": "python3"
    },
    "language_info": {
      "codemirror_mode": {
        "name": "ipython",
        "version": 3
      },
      "file_extension": ".py",
      "mimetype": "text/x-python",
      "name": "python",
      "nbconvert_exporter": "python",
      "pygments_lexer": "ipython3",
      "version": "3.10.12"
    },
    "colab": {
      "provenance": [],
      "include_colab_link": true
    }
  },
  "nbformat": 4,
  "nbformat_minor": 0
}